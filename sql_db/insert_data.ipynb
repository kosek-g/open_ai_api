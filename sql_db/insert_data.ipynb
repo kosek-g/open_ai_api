{
 "cells": [
  {
   "cell_type": "code",
   "execution_count": null,
   "metadata": {},
   "outputs": [],
   "source": [
    "import sqlite3"
   ]
  },
  {
   "cell_type": "code",
   "execution_count": null,
   "metadata": {},
   "outputs": [],
   "source": [
    "# Create/connect to DB\n",
    "conn = sqlite3.connect('gen_ai.db')\n",
    "\n",
    "# Create a cursor object to execute SQL commands\n",
    "cursor = conn.cursor()"
   ]
  },
  {
   "cell_type": "code",
   "execution_count": null,
   "metadata": {},
   "outputs": [],
   "source": [
    "# Insert into 'clients' table\n",
    "insert_clients = '''\n",
    "INSERT INTO clients (client_id, name, address, country, telephone, email)\n",
    "VALUES \n",
    "    (1, 'Arek Pierwszy', 'Pawia 1', 'Poland', '+1-555-555-5555', 'arek@avanade.com'),\n",
    "    (2, 'Marek Drugi', 'Pawia 2', 'Poland', '+1-555-555-5556', 'marek@avanade.com'),\n",
    "    (3, 'Darek Treci', 'Pawia 3', 'Poland', '+1-555-555-5557', 'darek@avanade.com');\n",
    "'''\n",
    "cursor.execute(create_table_clients)\n",
    "\n",
    "# Commit the changes\n",
    "conn.commit()"
   ]
  },
  {
   "cell_type": "code",
   "execution_count": null,
   "metadata": {},
   "outputs": [],
   "source": [
    "# Insert into 'products' table\n",
    "insert_products = '''\n",
    "INSERT INTO products (product_id, product_name, category)\n",
    "VALUES \n",
    "    (1, 'Headphones B&W', 'Headphones'),\n",
    "    (2, 'Headphones Sony', 'Headphones'),\n",
    "    (3, 'Headphones B&O', 'Headphones'),\n",
    "    (4, 'Speakers B&W', 'Speakers'),\n",
    "    (5, 'Speakers Sony', 'Speakers'),\n",
    "    (6, 'Speakers B&O', 'Speakers'),\n",
    "    (7, 'Amp B&W', 'Amps'),\n",
    "    (8, 'Amp Sony', 'Amps'),\n",
    "    (9, 'Amp B&O', 'Amps'),\n",
    "    (10, 'Cables', 'Others');\n",
    "'''\n",
    "cursor.execute(insert_products)\n",
    "\n",
    "# Commit the changes\n",
    "conn.commit()"
   ]
  },
  {
   "cell_type": "code",
   "execution_count": null,
   "metadata": {},
   "outputs": [],
   "source": [
    "# Insert into 'client_orders' table\n",
    "insert_orders = '''\n",
    "INSERT INTO client_orders (order_no, order_date, product, quantity, payment_status, client_id)\n",
    "VALUES \n",
    "    (1, '2023-10-31', 1, 2, 'Paid', 1),\n",
    "    (2, '2023-10-30', 3, 1, 'Pending', 1),\n",
    "    (3, '2023-10-29', 2, 3, 'Paid', 1),\n",
    "    (4, '2023-10-31', 5, 2, 'Pending', 2),\n",
    "    (5, '2023-10-30', 6, 1, 'Paid', 2),\n",
    "    (6, '2023-10-29', 4, 3, 'Paid', 2),\n",
    "    (7, '2023-10-31', 8, 2, 'Paid', 3),\n",
    "    (8, '2023-10-30', 9, 1, 'Pending', 3),\n",
    "    (9, '2023-10-29', 7, 3, 'Pending', 3),\n",
    "    (10, '2023-10-28', 10, 2, 'Paid', 3);\n",
    "'''\n",
    "cursor.execute(insert_orders)\n",
    "\n",
    "# Commit the changes\n",
    "conn.commit()"
   ]
  }
 ],
 "metadata": {
  "language_info": {
   "name": "python"
  }
 },
 "nbformat": 4,
 "nbformat_minor": 2
}
