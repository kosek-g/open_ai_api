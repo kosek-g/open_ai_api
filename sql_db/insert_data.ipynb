{
 "cells": [
  {
   "cell_type": "code",
   "execution_count": 1,
   "metadata": {},
   "outputs": [],
   "source": [
    "import sqlite3"
   ]
  },
  {
   "cell_type": "code",
   "execution_count": 2,
   "metadata": {},
   "outputs": [],
   "source": [
    "# Create/connect to DB\n",
    "conn = sqlite3.connect('gen_ai.db')\n",
    "\n",
    "# Create a cursor object to execute SQL commands\n",
    "cursor = conn.cursor()"
   ]
  },
  {
   "cell_type": "code",
   "execution_count": 3,
   "metadata": {},
   "outputs": [],
   "source": [
    "# Insert into 'clients' table\n",
    "insert_clients = '''\n",
    "INSERT INTO clients (client_id, name, address, country, telephone, email)\n",
    "VALUES \n",
    "    (1, 'Arek Pierwszy', 'Pawia 1', 'Poland', '+1-555-555-5555', 'arek@avanade.com'),\n",
    "    (2, 'Marek Drugi', 'Pawia 2', 'Poland', '+1-555-555-5556', 'marek@avanade.com'),\n",
    "    (3, 'Darek Treci', 'Pawia 3', 'Poland', '+1-555-555-5557', 'darek@avanade.com');\n",
    "'''\n",
    "cursor.execute(insert_clients)\n",
    "\n",
    "# Commit the changes\n",
    "conn.commit()"
   ]
  },
  {
   "cell_type": "code",
   "execution_count": 4,
   "metadata": {},
   "outputs": [],
   "source": [
    "# Insert into 'products' table\n",
    "insert_products = '''\n",
    "INSERT INTO products (product_id, product_name, category)\n",
    "VALUES \n",
    "    (1, 'Headphones B&W', 'Headphones'),\n",
    "    (2, 'Headphones Sony', 'Headphones'),\n",
    "    (3, 'Headphones B&O', 'Headphones'),\n",
    "    (4, 'Speakers B&W', 'Speakers'),\n",
    "    (5, 'Speakers Sony', 'Speakers'),\n",
    "    (6, 'Speakers B&O', 'Speakers'),\n",
    "    (7, 'Amp B&W', 'Amps'),\n",
    "    (8, 'Amp Sony', 'Amps'),\n",
    "    (9, 'Amp B&O', 'Amps'),\n",
    "    (10, 'Cables', 'Others');\n",
    "'''\n",
    "cursor.execute(insert_products)\n",
    "\n",
    "# Commit the changes\n",
    "conn.commit()"
   ]
  },
  {
   "cell_type": "code",
   "execution_count": 6,
   "metadata": {},
   "outputs": [],
   "source": [
    "# Insert into 'client_orders' table\n",
    "insert_orders = '''\n",
    "INSERT INTO client_orders (order_no, order_date, product_id, quantity, payment_status, client_id)\n",
    "VALUES \n",
    "    (1, '2023-10-31', 1, 2, 'Paid', 1),\n",
    "    (2, '2023-10-30', 3, 1, 'Pending', 1),\n",
    "    (3, '2023-10-29', 2, 3, 'Paid', 1),\n",
    "    (4, '2023-10-31', 5, 2, 'Pending', 2),\n",
    "    (5, '2023-10-30', 6, 1, 'Paid', 2),\n",
    "    (6, '2023-10-29', 4, 3, 'Paid', 2),\n",
    "    (7, '2023-10-31', 8, 2, 'Paid', 3),\n",
    "    (8, '2023-10-30', 9, 1, 'Pending', 3),\n",
    "    (9, '2023-10-29', 7, 3, 'Pending', 3),\n",
    "    (10, '2023-10-28', 10, 2, 'Paid', 3);\n",
    "'''\n",
    "cursor.execute(insert_orders)\n",
    "\n",
    "# Commit the changes\n",
    "conn.commit()"
   ]
  },
  {
   "cell_type": "code",
   "execution_count": 10,
   "metadata": {},
   "outputs": [],
   "source": [
    "# Insert into 'emails' table\n",
    "insert_emails = '''\n",
    "INSERT INTO emails (email_content, email_date, client_address) VALUES \n",
    "    ('Hello, I hope this email finds you well. I am writing to inquire about the status of my recent order for Headphones B&W. The order number is #1, and it was placed on October 31, 2023. Could you please provide me with an update on the shipment? Thank you, Arek Pierwszy Pawia 1, Poland', '2023-11-13 08:00:00', 'Pawia 1'),\n",
    "\n",
    "    ('Hi there, I trust you are having a great day. I wanted to confirm the details of my order for Speakers Sony, placed on October 30, 2023 (Order #5). Can you verify the expected delivery date and provide any relevant tracking information? Best regards, Marek Drugi Pawia 2, Poland', '2023-11-13 09:15:00', 'Pawia 2'),\n",
    "\n",
    "    ('Dear [Sales Representative], I hope this message reaches you in good health. I wanted to inform you that I have successfully made the payment for my order of Amp B&W (Order #7), placed on October 31, 2023. Could you please confirm the receipt of the payment and provide an estimated delivery date? Thank you, Darek Treci Pawia 3, Poland', '2023-11-13 10:30:00', 'Pawia 3'),\n",
    "\n",
    "    ('Hello, I hope you are doing well. I noticed that my order for Headphones B&O (Order #2) is still pending payment. I apologize for any oversight, and I would like to rectify this as soon as possible. Please provide the necessary details for completing the payment. Regards, Arek Pierwszy Pawia 1, Poland', '2023-11-13 11:45:00', 'Pawia 1'),\n",
    "\n",
    "    ('Hi [Sales Team], I hope this email finds you in good spirits. I am writing to get an update on my order for Speakers B&O (Order #6), which was placed on October 29, 2023. Any information on the shipping status would be greatly appreciated. Thanks, Marek Drugi Pawia 2, Poland', '2023-11-13 13:00:00', 'Pawia 2'),\n",
    "\n",
    "    ('Dear [Sales Representative], I trust this message finds you well. I wanted to inquire about my recent order for Cables (Order #10), placed on October 28, 2023. Could you please provide me with the expected delivery date and any relevant tracking details? Best regards, Darek Treci Pawia 3, Poland', '2023-11-13 14:15:00', 'Pawia 3'),\n",
    "\n",
    "    ('Hello, I hope you are having a wonderful day. I am reaching out to confirm the details of my order for Headphones Sony (Order #3), placed on October 29, 2023. Can you provide an update on the order status and expected delivery time? Thank you, Arek Pierwszy Pawia 1, Poland', '2023-11-13 15:30:00', 'Pawia 1'),\n",
    "\n",
    "    ('Hi there, I trust this email finds you well. I noticed that my order for Amp Sony (Order #8) is still pending. Could you please provide the necessary information for completing the payment and an estimated delivery date? Best regards, Marek Drugi Pawia 2, Poland', '2023-11-13 16:45:00', 'Pawia 2'),\n",
    "\n",
    "    ('Dear [Sales Team], I hope this email reaches you in good health. I wanted to confirm the shipment of my order for Speakers B&W (Order #4), placed on October 31, 2023. Can you provide tracking details for the delivery? Thanks, Darek Treci Pawia 3, Poland', '2023-11-13 18:00:00', 'Pawia 3'),\n",
    "\n",
    "    ('Hello, I trust this message finds you well. I wanted to remind you of the pending payment for my order of Amp B&O (Order #9), placed on October 30, 2023. Please provide the necessary details for completing the payment at your earliest convenience. Regards, Arek Pierwszy Pawia 1, Poland', '2023-11-13 19:15:00', 'Pawia 1');\n",
    "\n",
    "'''\n",
    "cursor.execute(insert_emails)\n",
    "\n",
    "# Commit the changes\n",
    "conn.commit()"
   ]
  },
  {
   "cell_type": "code",
   "execution_count": null,
   "metadata": {},
   "outputs": [],
   "source": []
  }
 ],
 "metadata": {
  "kernelspec": {
   "display_name": "gen_ai",
   "language": "python",
   "name": "python3"
  },
  "language_info": {
   "codemirror_mode": {
    "name": "ipython",
    "version": 3
   },
   "file_extension": ".py",
   "mimetype": "text/x-python",
   "name": "python",
   "nbconvert_exporter": "python",
   "pygments_lexer": "ipython3",
   "version": "3.10.13"
  }
 },
 "nbformat": 4,
 "nbformat_minor": 2
}
