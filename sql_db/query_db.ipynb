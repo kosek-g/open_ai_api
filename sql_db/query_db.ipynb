{
 "cells": [
  {
   "cell_type": "code",
   "execution_count": 1,
   "metadata": {},
   "outputs": [],
   "source": [
    "import sqlite3"
   ]
  },
  {
   "cell_type": "code",
   "execution_count": 2,
   "metadata": {},
   "outputs": [],
   "source": [
    "# Create/connect to DB\n",
    "conn = sqlite3.connect('gen_ai.db')\n",
    "\n",
    "# Create a cursor object to execute SQL commands\n",
    "cursor = conn.cursor()"
   ]
  },
  {
   "cell_type": "code",
   "execution_count": 5,
   "metadata": {},
   "outputs": [
    {
     "name": "stdout",
     "output_type": "stream",
     "text": [
      "[('clients',), ('products',), ('client_orders',), ('emails',)]\n"
     ]
    }
   ],
   "source": [
    "# Check tables\n",
    "query_tables = '''\n",
    "SELECT name FROM sqlite_master WHERE type='table';\n",
    "'''\n",
    "cursor.execute(query_tables)\n",
    "tables = cursor.fetchall()\n",
    "print(tables)\n",
    "\n",
    "# Commit the changes\n",
    "conn.commit()"
   ]
  },
  {
   "cell_type": "code",
   "execution_count": 8,
   "metadata": {},
   "outputs": [
    {
     "name": "stdout",
     "output_type": "stream",
     "text": [
      "[(1, '2023-10-31', 1, 2, 'Paid', 1), (2, '2023-10-30', 3, 1, 'Pending', 1), (3, '2023-10-29', 2, 3, 'Paid', 1), (4, '2023-10-31', 5, 2, 'Pending', 2), (5, '2023-10-30', 6, 1, 'Paid', 2), (6, '2023-10-29', 4, 3, 'Paid', 2), (7, '2023-10-31', 8, 2, 'Paid', 3), (8, '2023-10-30', 9, 1, 'Pending', 3), (9, '2023-10-29', 7, 3, 'Pending', 3), (10, '2023-10-28', 10, 2, 'Paid', 3)]\n"
     ]
    }
   ],
   "source": [
    "# Query client_orders\n",
    "query_client_orders = '''\n",
    "SELECT * FROM client_orders;\n",
    "'''\n",
    "cursor.execute(query_client_orders)\n",
    "data = cursor.fetchall()\n",
    "print(data)\n",
    "\n",
    "# Commit the changes\n",
    "conn.commit()"
   ]
  },
  {
   "cell_type": "code",
   "execution_count": 7,
   "metadata": {},
   "outputs": [
    {
     "name": "stdout",
     "output_type": "stream",
     "text": [
      "[(1, 'Arek Pierwszy', 'Pawia 1', 'Poland', '+1-555-555-5555', 'arek@avanade.com'), (2, 'Marek Drugi', 'Pawia 2', 'Poland', '+1-555-555-5556', 'marek@avanade.com'), (3, 'Darek Treci', 'Pawia 3', 'Poland', '+1-555-555-5557', 'darek@avanade.com')]\n"
     ]
    }
   ],
   "source": [
    "# Query client_orders\n",
    "query_clients = '''\n",
    "SELECT * FROM clients;\n",
    "'''\n",
    "cursor.execute(query_clients)\n",
    "data = cursor.fetchall()\n",
    "print(data)\n",
    "\n",
    "# Commit the changes\n",
    "conn.commit()"
   ]
  },
  {
   "cell_type": "code",
   "execution_count": 9,
   "metadata": {},
   "outputs": [
    {
     "name": "stdout",
     "output_type": "stream",
     "text": [
      "[(1, 'Headphones B&W', 'Headphones'), (2, 'Headphones Sony', 'Headphones'), (3, 'Headphones B&O', 'Headphones'), (4, 'Speakers B&W', 'Speakers'), (5, 'Speakers Sony', 'Speakers'), (6, 'Speakers B&O', 'Speakers'), (7, 'Amp B&W', 'Amps'), (8, 'Amp Sony', 'Amps'), (9, 'Amp B&O', 'Amps'), (10, 'Cables', 'Others')]\n"
     ]
    }
   ],
   "source": [
    "# Query client_orders\n",
    "query_products = '''\n",
    "SELECT * FROM products;\n",
    "'''\n",
    "cursor.execute(query_products)\n",
    "data = cursor.fetchall()\n",
    "print(data)\n",
    "\n",
    "# Commit the changes\n",
    "conn.commit()"
   ]
  },
  {
   "cell_type": "code",
   "execution_count": 10,
   "metadata": {},
   "outputs": [
    {
     "name": "stdout",
     "output_type": "stream",
     "text": [
      "[('Hello, I hope this email finds you well. I am writing to inquire about the status of my recent order for Headphones B&W. The order number is #1, and it was placed on October 31, 2023. Could you please provide me with an update on the shipment? Thank you, Arek Pierwszy Pawia 1, Poland', '2023-11-13 08:00:00', 'Pawia 1'), ('Hi there, I trust you are having a great day. I wanted to confirm the details of my order for Speakers Sony, placed on October 30, 2023 (Order #5). Can you verify the expected delivery date and provide any relevant tracking information? Best regards, Marek Drugi Pawia 2, Poland', '2023-11-13 09:15:00', 'Pawia 2'), ('Dear [Sales Representative], I hope this message reaches you in good health. I wanted to inform you that I have successfully made the payment for my order of Amp B&W (Order #7), placed on October 31, 2023. Could you please confirm the receipt of the payment and provide an estimated delivery date? Thank you, Darek Treci Pawia 3, Poland', '2023-11-13 10:30:00', 'Pawia 3'), ('Hello, I hope you are doing well. I noticed that my order for Headphones B&O (Order #2) is still pending payment. I apologize for any oversight, and I would like to rectify this as soon as possible. Please provide the necessary details for completing the payment. Regards, Arek Pierwszy Pawia 1, Poland', '2023-11-13 11:45:00', 'Pawia 1'), ('Hi [Sales Team], I hope this email finds you in good spirits. I am writing to get an update on my order for Speakers B&O (Order #6), which was placed on October 29, 2023. Any information on the shipping status would be greatly appreciated. Thanks, Marek Drugi Pawia 2, Poland', '2023-11-13 13:00:00', 'Pawia 2'), ('Dear [Sales Representative], I trust this message finds you well. I wanted to inquire about my recent order for Cables (Order #10), placed on October 28, 2023. Could you please provide me with the expected delivery date and any relevant tracking details? Best regards, Darek Treci Pawia 3, Poland', '2023-11-13 14:15:00', 'Pawia 3'), ('Hello, I hope you are having a wonderful day. I am reaching out to confirm the details of my order for Headphones Sony (Order #3), placed on October 29, 2023. Can you provide an update on the order status and expected delivery time? Thank you, Arek Pierwszy Pawia 1, Poland', '2023-11-13 15:30:00', 'Pawia 1'), ('Hi there, I trust this email finds you well. I noticed that my order for Amp Sony (Order #8) is still pending. Could you please provide the necessary information for completing the payment and an estimated delivery date? Best regards, Marek Drugi Pawia 2, Poland', '2023-11-13 16:45:00', 'Pawia 2'), ('Dear [Sales Team], I hope this email reaches you in good health. I wanted to confirm the shipment of my order for Speakers B&W (Order #4), placed on October 31, 2023. Can you provide tracking details for the delivery? Thanks, Darek Treci Pawia 3, Poland', '2023-11-13 18:00:00', 'Pawia 3'), ('Hello, I trust this message finds you well. I wanted to remind you of the pending payment for my order of Amp B&O (Order #9), placed on October 30, 2023. Please provide the necessary details for completing the payment at your earliest convenience. Regards, Arek Pierwszy Pawia 1, Poland', '2023-11-13 19:15:00', 'Pawia 1')]\n"
     ]
    }
   ],
   "source": [
    "# Query emails\n",
    "query_emails = '''\n",
    "SELECT * FROM emails;\n",
    "'''\n",
    "cursor.execute(query_emails)\n",
    "data = cursor.fetchall()\n",
    "print(data)\n",
    "\n",
    "# Commit the changes\n",
    "conn.commit()"
   ]
  },
  {
   "cell_type": "code",
   "execution_count": null,
   "metadata": {},
   "outputs": [],
   "source": []
  }
 ],
 "metadata": {
  "kernelspec": {
   "display_name": "gen_ai",
   "language": "python",
   "name": "python3"
  },
  "language_info": {
   "codemirror_mode": {
    "name": "ipython",
    "version": 3
   },
   "file_extension": ".py",
   "mimetype": "text/x-python",
   "name": "python",
   "nbconvert_exporter": "python",
   "pygments_lexer": "ipython3",
   "version": "3.10.13"
  }
 },
 "nbformat": 4,
 "nbformat_minor": 2
}
