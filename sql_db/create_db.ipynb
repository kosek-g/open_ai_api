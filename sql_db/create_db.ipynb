{
 "cells": [
  {
   "cell_type": "code",
   "execution_count": 1,
   "metadata": {},
   "outputs": [],
   "source": [
    "import sqlite3"
   ]
  },
  {
   "cell_type": "code",
   "execution_count": 2,
   "metadata": {},
   "outputs": [],
   "source": [
    "# Create/connect to DB\n",
    "conn = sqlite3.connect('gen_ai.db')\n",
    "\n",
    "# Create a cursor object to execute SQL commands\n",
    "cursor = conn.cursor()"
   ]
  },
  {
   "cell_type": "code",
   "execution_count": 3,
   "metadata": {},
   "outputs": [],
   "source": [
    "# Create 'clients' table\n",
    "# Create 'clients' table\n",
    "create_table_clients = '''\n",
    "CREATE TABLE clients (\n",
    "    client_id INT PRIMARY KEY,\n",
    "    name VARCHAR(255),\n",
    "    address VARCHAR(255),\n",
    "    country VARCHAR(255),\n",
    "    telephone VARCHAR(15),\n",
    "    email VARCHAR(255)\n",
    ");\n",
    "'''\n",
    "cursor.execute(create_table_clients)\n",
    "\n",
    "# Commit the changes\n",
    "conn.commit()"
   ]
  },
  {
   "cell_type": "code",
   "execution_count": 6,
   "metadata": {},
   "outputs": [],
   "source": [
    "# Create 'products' table\n",
    "create_table_products = '''\n",
    "CREATE TABLE products (\n",
    "    product_id INT PRIMARY KEY,\n",
    "    product_name VARCHAR(255),\n",
    "    category VARCHAR(255)\n",
    ");\n",
    "'''\n",
    "cursor.execute(create_table_products)\n",
    "\n",
    "# Commit the changes\n",
    "conn.commit()"
   ]
  },
  {
   "cell_type": "code",
   "execution_count": 7,
   "metadata": {},
   "outputs": [],
   "source": [
    "# Create 'client_orders ' table\n",
    "create_table_client_orders = '''\n",
    "CREATE TABLE client_orders (\n",
    "    order_no INT PRIMARY KEY,\n",
    "    order_date DATE,\n",
    "    product_id INT,\n",
    "    quantity INT,\n",
    "    payment_status VARCHAR(50),\n",
    "    client_id INT,\n",
    "    FOREIGN KEY (client_id) REFERENCES clients(client_id)\n",
    ");\n",
    "'''\n",
    "cursor.execute(create_table_client_orders)\n",
    "\n",
    "# Commit the changes\n",
    "conn.commit()"
   ]
  },
  {
   "cell_type": "code",
   "execution_count": 8,
   "metadata": {},
   "outputs": [],
   "source": [
    "# Create 'emails  ' table\n",
    "create_table_emails = '''\n",
    "CREATE TABLE emails (\n",
    "    email_content TEXT,\n",
    "    email_date DATETIME,\n",
    "    client_address VARCHAR(255),\n",
    "    FOREIGN KEY (client_address) REFERENCES clients(address)\n",
    ");\n",
    "'''\n",
    "cursor.execute(create_table_emails)\n",
    "\n",
    "# Commit the changes\n",
    "conn.commit()"
   ]
  },
  {
   "cell_type": "code",
   "execution_count": 10,
   "metadata": {},
   "outputs": [
    {
     "name": "stdout",
     "output_type": "stream",
     "text": [
      "[]\n"
     ]
    }
   ],
   "source": [
    "# List tables\n",
    "cursor.execute(\"SELECT * FROM clients;\")\n",
    "tables = cursor.fetchall()\n",
    "print(tables)"
   ]
  },
  {
   "cell_type": "code",
   "execution_count": null,
   "metadata": {},
   "outputs": [],
   "source": []
  }
 ],
 "metadata": {
  "kernelspec": {
   "display_name": "gen_ai",
   "language": "python",
   "name": "python3"
  },
  "language_info": {
   "codemirror_mode": {
    "name": "ipython",
    "version": 3
   },
   "file_extension": ".py",
   "mimetype": "text/x-python",
   "name": "python",
   "nbconvert_exporter": "python",
   "pygments_lexer": "ipython3",
   "version": "3.10.13"
  }
 },
 "nbformat": 4,
 "nbformat_minor": 2
}
