{
 "cells": [
  {
   "cell_type": "code",
   "execution_count": 12,
   "metadata": {},
   "outputs": [
    {
     "name": "stdout",
     "output_type": "stream",
     "text": [
      "4ef446e9edb04204b17cc70dd2a8d08f\n"
     ]
    }
   ],
   "source": [
    "import os\n",
    "import json\n",
    "from dotenv import load_dotenv\n",
    "\n",
    "load_dotenv()\n",
    "\n",
    "print(os.getenv(\"OPENAI_API_KEY\"))\n",
    "# path = os.environ[\"OPENAI_API_KEY\"]\n",
    "# print(path)"
   ]
  },
  {
   "cell_type": "code",
   "execution_count": 9,
   "metadata": {},
   "outputs": [
    {
     "name": "stdout",
     "output_type": "stream",
     "text": [
      "As of January 2021, the President of the United States is Joe Biden.\n"
     ]
    }
   ],
   "source": [
    "import os\n",
    "from dotenv import load_dotenv\n",
    "import openai\n",
    "\n",
    "# init .env\n",
    "load_dotenv()\n",
    "\n",
    "# config\n",
    "openai.api_type = \"azure\"\n",
    "openai.api_base = \"https://gen-ai-training-avanade-2.openai.azure.com/\"\n",
    "openai.api_version = \"2023-07-01-preview\"\n",
    "openai.api_key = os.getenv(\"OPENAI_API_KEY\")\n",
    "\n",
    "# Enter the country\n",
    "country_name = input(\n",
    "    \"Enter the name of the country for which you want to know the name of the president: \"\n",
    ")\n",
    "\n",
    "response = openai.ChatCompletion.create(\n",
    "  engine=\"gpt35_test\",\n",
    "  messages = [\n",
    "      {\"role\":\"system\",\"content\":\"You are an AI assistant that helps people find information.\"},\n",
    "      {\"role\":\"user\",\"content\":f\"Who is the president of {country_name}?.\"}\n",
    "    ],\n",
    "  temperature=0.7,\n",
    "  max_tokens=800,\n",
    "  top_p=0.95,\n",
    "  frequency_penalty=0,\n",
    "  presence_penalty=0,\n",
    "  stop=None)\n",
    "\n",
    "print(response['choices'][0]['message']['content'])"
   ]
  },
  {
   "cell_type": "code",
   "execution_count": null,
   "metadata": {},
   "outputs": [],
   "source": []
  }
 ],
 "metadata": {
  "kernelspec": {
   "display_name": "gen_ai",
   "language": "python",
   "name": "python3"
  },
  "language_info": {
   "codemirror_mode": {
    "name": "ipython",
    "version": 3
   },
   "file_extension": ".py",
   "mimetype": "text/x-python",
   "name": "python",
   "nbconvert_exporter": "python",
   "pygments_lexer": "ipython3",
   "version": "3.10.13"
  }
 },
 "nbformat": 4,
 "nbformat_minor": 2
}
