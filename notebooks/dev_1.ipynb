{
 "cells": [
  {
   "cell_type": "code",
   "execution_count": 1,
   "metadata": {},
   "outputs": [
    {
     "name": "stdout",
     "output_type": "stream",
     "text": [
      "Name: openai\n",
      "Version: 0.28.1\n",
      "Summary: Python client library for the OpenAI API\n",
      "Home-page: https://github.com/openai/openai-python\n",
      "Author: OpenAI\n",
      "Author-email: support@openai.com\n",
      "License: \n",
      "Location: c:\\users\\grzegorz.kosek\\appdata\\local\\miniconda3\\envs\\gen_ai\\lib\\site-packages\n",
      "Requires: aiohttp, requests, tqdm\n",
      "Required-by: \n",
      "Note: you may need to restart the kernel to use updated packages.\n"
     ]
    }
   ],
   "source": [
    "pip show openai"
   ]
  },
  {
   "cell_type": "code",
   "execution_count": 2,
   "metadata": {},
   "outputs": [
    {
     "name": "stdout",
     "output_type": "stream",
     "text": [
      "Hello, Grzegorz!\n"
     ]
    }
   ],
   "source": [
    "def greet_user():\n",
    "    # Ask the user for their name\n",
    "    user_name = input(\"Please enter your name: \")\n",
    "    \n",
    "    # Print a greeting message\n",
    "    print(f\"Hello, {user_name}!\")\n",
    "\n",
    "# Call the function to start the process\n",
    "greet_user()\n"
   ]
  },
  {
   "cell_type": "code",
   "execution_count": null,
   "metadata": {},
   "outputs": [],
   "source": [
    "# Original function\n",
    "\n",
    "import azure.functions as func\n",
    "import logging\n",
    "\n",
    "app = func.FunctionApp(http_auth_level=func.AuthLevel.ANONYMOUS)\n",
    "\n",
    "@app.route(route=\"gen_ai\")\n",
    "def gen_ai(req: func.HttpRequest) -> func.HttpResponse:\n",
    "    logging.info('Python HTTP trigger function processed a request.')\n",
    "\n",
    "    name = req.params.get('name')\n",
    "    if not name:\n",
    "        try:\n",
    "            req_body = req.get_json()\n",
    "        except ValueError:\n",
    "            pass\n",
    "        else:\n",
    "            name = req_body.get('name')\n",
    "\n",
    "    if name:\n",
    "        return func.HttpResponse(f\"Hello, {name}! Poland GenAI Club is here!\")\n",
    "    else:\n",
    "        return func.HttpResponse(\n",
    "             \"This HTTP triggered function executed successfully. Pass a name in the query string or in the request body for a personalized response.\",\n",
    "             status_code=200\n",
    "        )\n",
    "\n",
    "@app.route(route=\"hello\", methods=[\"GET\"])\n",
    "def hello(req: func.HttpRequest) -> func.HttpResponse:\n",
    "    logging.info('Python HTTP trigger function processed a request for /api/hello.')\n",
    "\n",
    "    return func.HttpResponse(\"Hello, World!\", status_code=200)"
   ]
  },
  {
   "cell_type": "code",
   "execution_count": null,
   "metadata": {},
   "outputs": [],
   "source": [
    "import azure.functions as func\n",
    "import logging\n",
    "import openai\n",
    "import os\n",
    "from dotenv import load_dotenv\n",
    "\n",
    "app = func.FunctionApp(http_auth_level=func.AuthLevel.ANONYMOUS)\n",
    "\n",
    "# config\n",
    "load_dotenv()\n",
    "openai.api_type = \"azure\"\n",
    "openai.api_base = \"https://gen-ai-training-avanade-2.openai.azure.com/\"\n",
    "openai.api_version = \"2023-07-01-preview\"\n",
    "openai.api_key = os.getenv(\"OPENAI_API_KEY\")\n",
    "\n",
    "@app.route(route=\"gen_ai\")\n",
    "def gen_ai(req: func.HttpRequest) -> func.HttpResponse:\n",
    "    logging.info('Python HTTP trigger function processed a request.')\n",
    "\n",
    "    name = req.params.get('name')\n",
    "    if not name:\n",
    "        try:\n",
    "            req_body = req.get_json()\n",
    "        except ValueError:\n",
    "            pass\n",
    "        else:\n",
    "            name = req_body.get('name')\n",
    "\n",
    "    if name:\n",
    "        return func.HttpResponse(f\"Hello, {name}! Poland GenAI Club is here!\")\n",
    "    else:\n",
    "        return func.HttpResponse(\n",
    "             \"This HTTP triggered function executed successfully. Pass a name in the query string or in the request body for a personalized response.\",\n",
    "             status_code=200\n",
    "        )\n",
    "\n",
    "@app.route(route=\"hello\", methods=[\"GET\"])\n",
    "def hello(req: func.HttpRequest) -> func.HttpResponse:\n",
    "    logging.info('Python HTTP trigger function processed a request for /api/hello.')\n",
    "\n",
    "    return func.HttpResponse(\"Hello, World!\", status_code=200)\n",
    "\n",
    "@app.route(route=\"prompt\", methods=[\"POST\"])\n",
    "def process_prompt(req: func.HttpRequest) -> func.HttpResponse:\n",
    "    logging.info('Python HTTP trigger function processed a request for /api/prompt.')\n",
    "\n",
    "    # Check if the openai_api_key header is provided\n",
    "    openai_api_key = req.headers.get(\"openai_api_key\")\n",
    "    if not openai_api_key:\n",
    "        return func.HttpResponse(\"OpenAI API key not provided.\", status_code=401)\n",
    "\n",
    "    # Verify the provided API key (optional step, you may want to implement your own verification logic)\n",
    "    if openai_api_key != os.getenv(\"OPENAI_API_KEY\"):\n",
    "        return func.HttpResponse(\"Invalid OpenAI API key.\", status_code=403)\n",
    "\n",
    "    try:\n",
    "        req_body = req.get_json()\n",
    "        prompt = req_body.get('prompt')\n",
    "    except ValueError:\n",
    "        return func.HttpResponse(\"Invalid JSON format in the request body.\", status_code=400)\n",
    "\n",
    "    if prompt:\n",
    "        response = openai.ChatCompletion.create(\n",
    "            engine=\"gpt35_test\",\n",
    "            messages=[\n",
    "                {\"role\": \"system\", \"content\": \"You are an AI assistant that helps people find information.\"},\n",
    "                {\"role\": \"user\", \"content\": prompt}\n",
    "            ],\n",
    "            temperature=0.7,\n",
    "            max_tokens=800,\n",
    "            top_p=0.95,\n",
    "            frequency_penalty=0,\n",
    "            presence_penalty=0,\n",
    "            stop=None\n",
    "        )\n",
    "\n",
    "        return func.HttpResponse(response['choices'][0]['message']['content'], status_code=200)\n",
    "\n",
    "    return func.HttpResponse(\"No 'prompt' provided in the request body.\", status_code=400)\n"
   ]
  }
 ],
 "metadata": {
  "kernelspec": {
   "display_name": "Python 3",
   "language": "python",
   "name": "python3"
  },
  "language_info": {
   "codemirror_mode": {
    "name": "ipython",
    "version": 3
   },
   "file_extension": ".py",
   "mimetype": "text/x-python",
   "name": "python",
   "nbconvert_exporter": "python",
   "pygments_lexer": "ipython3",
   "version": "3.10.13"
  }
 },
 "nbformat": 4,
 "nbformat_minor": 2
}
