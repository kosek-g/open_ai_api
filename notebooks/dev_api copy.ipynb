{
 "cells": [
  {
   "cell_type": "code",
   "execution_count": 12,
   "metadata": {},
   "outputs": [
    {
     "name": "stdout",
     "output_type": "stream",
     "text": [
      "4ef446e9edb04204b17cc70dd2a8d08f\n"
     ]
    }
   ],
   "source": [
    "import os\n",
    "import json\n",
    "from dotenv import load_dotenv\n",
    "\n",
    "load_dotenv()\n",
    "\n",
    "print(os.getenv(\"OPENAI_API_KEY\"))\n",
    "# path = os.environ[\"OPENAI_API_KEY\"]\n",
    "# print(path)"
   ]
  },
  {
   "cell_type": "code",
   "execution_count": 1,
   "metadata": {},
   "outputs": [
    {
     "name": "stdout",
     "output_type": "stream",
     "text": [
      "Here's the JSON with the extracted data:\n",
      "\n",
      "```\n",
      "{\n",
      "  \"customer_name\": \"Darek Treci\",\n",
      "  \"order_number\": \"4\",\n",
      "  \"order_date\": \"October 31, 2023\",\n",
      "  \"product_name\": \"Speakers B&W\"\n",
      "}\n",
      "```\n",
      "\n",
      "Email guidelines:\n",
      "\n",
      "- The customer name is the part of the email before the address.\n",
      "- The order number is the number between \"#\" and \",\" in the email.\n",
      "- The order date is the date in the email after \"placed on\".\n",
      "- The product name is the text after \"for\" in the email.\n"
     ]
    }
   ],
   "source": [
    "import os\n",
    "from dotenv import load_dotenv\n",
    "import openai\n",
    "\n",
    "# init .env\n",
    "load_dotenv()\n",
    "\n",
    "# config\n",
    "openai.api_type = \"azure\"\n",
    "openai.api_base = \"https://gen-ai-training-avanade-2.openai.azure.com/\"\n",
    "openai.api_version = \"2023-07-01-preview\"\n",
    "openai.api_key = os.getenv(\"OPENAI_API_KEY\")\n",
    "\n",
    "# Email content\n",
    "email_content = (\n",
    "    'Dear [Sales Team], I hope this email reaches you in good health. \\\n",
    "    I wanted to confirm the shipment of my order for Speakers B&W (Order #4), \\\n",
    "    placed on October 31, 2023. Can you provide tracking details for the delivery? \\\n",
    "    Thanks, Darek Treci Pawia 3, Poland'\n",
    ")\n",
    "\n",
    "\n",
    "# Prompt\n",
    "prompt = (\n",
    "        f\"Your task is to extract data from the email below. \\\n",
    "        In JSON format return customer name (person that sends the email), \\\n",
    "        order number, order date and product name. \\\n",
    "        Here is the email content: '{email_content}'. \\\n",
    "        Return JSON with the content and email guidelines.\"\n",
    "    )\n",
    "\n",
    "response = openai.ChatCompletion.create(\n",
    "  engine=\"gpt35_test\",\n",
    "  messages = [\n",
    "      {\"role\":\"system\",\"content\":\"You are an AI assistant that helps people find information.\"},\n",
    "      {\"role\":\"user\",\"content\":f\"{prompt}\"}\n",
    "    ],\n",
    "  temperature=0.7,\n",
    "  max_tokens=800,\n",
    "  top_p=0.95,\n",
    "  frequency_penalty=0,\n",
    "  presence_penalty=0,\n",
    "  stop=None)\n",
    "\n",
    "print(response['choices'][0]['message']['content'])"
   ]
  },
  {
   "cell_type": "code",
   "execution_count": null,
   "metadata": {},
   "outputs": [],
   "source": []
  }
 ],
 "metadata": {
  "kernelspec": {
   "display_name": "gen_ai",
   "language": "python",
   "name": "python3"
  },
  "language_info": {
   "codemirror_mode": {
    "name": "ipython",
    "version": 3
   },
   "file_extension": ".py",
   "mimetype": "text/x-python",
   "name": "python",
   "nbconvert_exporter": "python",
   "pygments_lexer": "ipython3",
   "version": "3.10.13"
  }
 },
 "nbformat": 4,
 "nbformat_minor": 2
}
